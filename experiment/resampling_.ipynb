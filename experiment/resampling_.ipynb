{
 "cells": [
  {
   "cell_type": "code",
   "execution_count": 11,
   "id": "236228a5-5bce-4f57-8e86-c38bcded8ccd",
   "metadata": {},
   "outputs": [],
   "source": [
    "from ucimlrepo import fetch_ucirepo \n",
    "from sklearn.datasets import fetch_openml\n",
    "\n",
    "import pandas as pd\n",
    "import numpy as np\n",
    "from sklearn.metrics import accuracy_score, precision_score, recall_score, f1_score, classification_report\n",
    "from sklearn.ensemble import RandomForestClassifier, AdaBoostClassifier\n",
    "from sklearn.model_selection import GridSearchCV\n",
    "from sklearn.metrics import make_scorer, confusion_matrix\n",
    "from sklearn.tree import DecisionTreeClassifier\n",
    "from sklearn.model_selection import train_test_split\n",
    "from sklearn.ensemble import GradientBoostingClassifier\n",
    "import category_encoders as ce\n",
    "from sklearn.preprocessing import LabelEncoder\n",
    "import matplotlib.pyplot as plt\n",
    "\n",
    "from sklearn.metrics import confusion_matrix\n",
    "from sklearn.metrics import matthews_corrcoef\n",
    "from utils import *\n",
    "from tqdm import tqdm\n",
    "\n",
    "import warnings\n",
    "warnings.filterwarnings(\"ignore\")"
   ]
  },
  {
   "cell_type": "markdown",
   "id": "e71b5fb6-e434-4e99-a352-570ae7192987",
   "metadata": {},
   "source": [
    "No resampling"
   ]
  },
  {
   "cell_type": "code",
   "execution_count": 21,
   "id": "422f105d-37c7-4040-98f8-5ea6b4723466",
   "metadata": {},
   "outputs": [],
   "source": [
    "def metric_list(y_test,y_preds,y_scores,num_of_classes):\n",
    "    accuracy = accuracy_score(y_test, y_preds)\n",
    "    precision = precision_score(y_test, y_preds, average='weighted')\n",
    "    recall = recall_score(y_test, y_preds, average='weighted')\n",
    "    f1 = f1_score(y_test, y_preds, average='weighted')\n",
    "    Macro_Averaged =macro_averaged_auprc(y_true=y_test,y_scores=y_scores,n_classes=num_of_classes)\n",
    "    F_measure = f_measure(y_test,y_preds,beta=10)\n",
    "    Modified_mcc = mmcc(y_true=y_test,y_pred=y_preds,classes=range(num_of_classes))\n",
    "    MCC_metric = matthews_corrcoef(y_test,y_preds)\n",
    "    Gmean = np.prod(g_mean_multiclass(y_true=y_test,y_pred=y_preds,n_classes=num_of_classes)[1][1::])\n",
    "\n",
    "    score_list = [accuracy,precision,recall,f1,Macro_Averaged,F_measure,Modified_mcc,MCC_metric,Gmean]\n",
    "    return score_list"
   ]
  },
  {
   "cell_type": "code",
   "execution_count": 3,
   "id": "9e40261b-3544-41f8-9451-bede8a9105f8",
   "metadata": {},
   "outputs": [],
   "source": [
    "data = fetch_openml(data_id=40672)"
   ]
  },
  {
   "cell_type": "code",
   "execution_count": 9,
   "id": "1f4f0013-23a1-4dd9-98eb-06a4aa107b9f",
   "metadata": {},
   "outputs": [],
   "source": [
    "x = data.data\n",
    "y = data.target"
   ]
  },
  {
   "cell_type": "code",
   "execution_count": 12,
   "id": "b032c33c-212c-41aa-beef-cc12899d46f9",
   "metadata": {},
   "outputs": [],
   "source": [
    "categorical_columns = x.select_dtypes(include=['category']).columns\n",
    "label_encoder = LabelEncoder()\n",
    "for col in categorical_columns:\n",
    "    x[col] = label_encoder.fit_transform(x[col])"
   ]
  },
  {
   "cell_type": "code",
   "execution_count": 18,
   "id": "7d291f18-e195-400b-bf8a-b3c4f80388d0",
   "metadata": {},
   "outputs": [],
   "source": [
    "num_of_classes=np.unique(y).size"
   ]
  },
  {
   "cell_type": "code",
   "execution_count": 19,
   "id": "f20f29d8-9b76-4337-ade0-1827c8fd3a55",
   "metadata": {},
   "outputs": [],
   "source": [
    "X_train, X_test, y_train, y_test =train_test_split(x,y,test_size=0.2,random_state=42)\n",
    "clf =  GradientBoostingClassifier(n_estimators=100, learning_rate=0.3, max_features=2, max_depth=5, random_state=42)"
   ]
  },
  {
   "cell_type": "code",
   "execution_count": 23,
   "id": "2e477f23-7b23-4cd6-bf7a-14d6ce46e058",
   "metadata": {},
   "outputs": [],
   "source": [
    "clf.fit(X_train, y_train) \n",
    "        \n",
    "y_preds = clf.predict(X_test) \n",
    "y_scores = clf.predict_proba(X_test)\n",
    "\n",
    "score_p = metric_list(y_test,y_preds,y_scores,num_of_classes)"
   ]
  },
  {
   "cell_type": "code",
   "execution_count": 26,
   "id": "5bf18f42-b2e3-4ba2-8b7a-1bcded078c77",
   "metadata": {},
   "outputs": [],
   "source": [
    "score = {\n",
    "    'FARs' : score_p\n",
    "}"
   ]
  },
  {
   "cell_type": "code",
   "execution_count": 27,
   "id": "4b79c04e-2a12-4b51-958c-99dbe214e8d7",
   "metadata": {},
   "outputs": [],
   "source": [
    "df = pd.DataFrame.from_dict(score, orient='index',columns=['accuracy', 'precision', 'recall', 'f1','Macro-Averaged AUPRC',\n",
    "                                                            'F_measure Beta=10','Modified mcc','MCC metirc','Gmean'])\n"
   ]
  },
  {
   "cell_type": "code",
   "execution_count": 28,
   "id": "00f8b6e5-35af-4df4-b2dd-7df76ab75261",
   "metadata": {},
   "outputs": [
    {
     "data": {
      "text/html": [
       "<div>\n",
       "<style scoped>\n",
       "    .dataframe tbody tr th:only-of-type {\n",
       "        vertical-align: middle;\n",
       "    }\n",
       "\n",
       "    .dataframe tbody tr th {\n",
       "        vertical-align: top;\n",
       "    }\n",
       "\n",
       "    .dataframe thead th {\n",
       "        text-align: right;\n",
       "    }\n",
       "</style>\n",
       "<table border=\"1\" class=\"dataframe\">\n",
       "  <thead>\n",
       "    <tr style=\"text-align: right;\">\n",
       "      <th></th>\n",
       "      <th>accuracy</th>\n",
       "      <th>precision</th>\n",
       "      <th>recall</th>\n",
       "      <th>f1</th>\n",
       "      <th>Macro-Averaged AUPRC</th>\n",
       "      <th>F_measure Beta=10</th>\n",
       "      <th>Modified mcc</th>\n",
       "      <th>MCC metirc</th>\n",
       "      <th>Gmean</th>\n",
       "    </tr>\n",
       "  </thead>\n",
       "  <tbody>\n",
       "    <tr>\n",
       "      <th>FARs</th>\n",
       "      <td>0.332475</td>\n",
       "      <td>0.410267</td>\n",
       "      <td>0.332475</td>\n",
       "      <td>0.344689</td>\n",
       "      <td>0.5</td>\n",
       "      <td>0.338307</td>\n",
       "      <td>0.0</td>\n",
       "      <td>0.146081</td>\n",
       "      <td>9.136861e-07</td>\n",
       "    </tr>\n",
       "  </tbody>\n",
       "</table>\n",
       "</div>"
      ],
      "text/plain": [
       "      accuracy  precision    recall        f1  Macro-Averaged AUPRC  \\\n",
       "FARs  0.332475   0.410267  0.332475  0.344689                   0.5   \n",
       "\n",
       "      F_measure Beta=10  Modified mcc  MCC metirc         Gmean  \n",
       "FARs           0.338307           0.0    0.146081  9.136861e-07  "
      ]
     },
     "execution_count": 28,
     "metadata": {},
     "output_type": "execute_result"
    }
   ],
   "source": [
    "df"
   ]
  },
  {
   "cell_type": "code",
   "execution_count": 34,
   "id": "0c47bb18-97f5-49ee-9c15-71ef5b234a91",
   "metadata": {},
   "outputs": [
    {
     "data": {
      "text/plain": [
       "array([[   0,    0,    1,    0,    1,    0,    0,    0],\n",
       "       [ 784, 5002,  196,   71,  172, 1064, 1059,  125],\n",
       "       [ 512,  491,  651,    3,   63,  483,  807,   51],\n",
       "       [  11,   15,   13,    2,   14,    7,   12,    5],\n",
       "       [ 313, 1529,  457,   29,  210,  550,  747,  154],\n",
       "       [ 451,  487,  549,    2,   65,  452,  700,   37],\n",
       "       [ 214,  438,  320,    1,   46,  241,  371,   42],\n",
       "       [   6,   45,    4,    3,    1,   10,   79,   26]], dtype=int64)"
      ]
     },
     "execution_count": 34,
     "metadata": {},
     "output_type": "execute_result"
    }
   ],
   "source": [
    "conf_mat = confusion_matrix(y_true=y_test, y_pred=y_preds)\n",
    "conf_mat"
   ]
  },
  {
   "cell_type": "code",
   "execution_count": 53,
   "id": "9cd42bab-7a23-4450-95a1-ffa8c72503e3",
   "metadata": {},
   "outputs": [
    {
     "data": {
      "image/png": "[encoded data removed]",
      "text/plain": [
       "<Figure size 1000x600 with 1 Axes>"
      ]
     },
     "metadata": {},
     "output_type": "display_data"
    }
   ],
   "source": [
    "counts = y.value_counts().sort_index()\n",
    "class_names = counts.index.tolist()\n",
    "class_values = counts.values.tolist()\n",
    "\n",
    "# Plotting\n",
    "plt.figure(figsize=(10, 6))\n",
    "bars = plt.bar(class_names, class_values)\n",
    "for bar, value in zip(bars, class_values):\n",
    "    plt.text(bar.get_x() + bar.get_width() / 2, bar.get_height(), value,\n",
    "             ha='center', va='bottom', color='black', fontsize=10)\n",
    "\n",
    "plt.xlabel('Classes')\n",
    "plt.ylabel('Frequency')\n",
    "plt.title('Distribution of Classes in FARs Data')\n",
    "plt.show()"
   ]
  },
  {
   "cell_type": "markdown",
   "id": "8d34bd79-8e98-49dc-a3eb-aa2e47d7d5c1",
   "metadata": {},
   "source": [
    "under sampling using TomekLinks"
   ]
  },
  {
   "cell_type": "code",
   "execution_count": 83,
   "id": "742d0e48-ae9c-4c66-a01d-3f1540efd8c3",
   "metadata": {},
   "outputs": [],
   "source": [
    "from imblearn.under_sampling import TomekLinks\n",
    "\n",
    "tl = TomekLinks(random_state = 42)\n",
    "x_tl, y_tl = tl.fit_resample(x, y)"
   ]
  },
  {
   "cell_type": "code",
   "execution_count": 84,
   "id": "cf29a709-94a9-481b-8df1-c5a42b19eab6",
   "metadata": {},
   "outputs": [
    {
     "data": {
      "image/png": "[encoded data removed]",
      "text/plain": [
       "<Figure size 1000x600 with 1 Axes>"
      ]
     },
     "metadata": {},
     "output_type": "display_data"
    }
   ],
   "source": [
    "counts = y_tl.value_counts().sort_index()\n",
    "class_names = counts.index.tolist()\n",
    "class_values = counts.values.tolist()\n",
    "\n",
    "# Plotting\n",
    "plt.figure(figsize=(10, 6))\n",
    "bars = plt.bar(class_names, class_values)\n",
    "for bar, value in zip(bars, class_values):\n",
    "    plt.text(bar.get_x() + bar.get_width() / 2, bar.get_height(), value,\n",
    "             ha='center', va='bottom', color='black', fontsize=10)\n",
    "\n",
    "plt.xlabel('Classes')\n",
    "plt.ylabel('Frequency')\n",
    "plt.title('Distribution of Classes in FARs Data')\n",
    "plt.show()"
   ]
  },
  {
   "cell_type": "code",
   "execution_count": 85,
   "id": "0d5b3a71-6151-4c7f-8387-658aec94162c",
   "metadata": {},
   "outputs": [],
   "source": [
    "X_train_tl, X_test_tl, y_train_tl, y_test_tl =train_test_split(x_tl,y_tl,test_size=0.2,random_state=42)\n",
    "clf =  GradientBoostingClassifier(n_estimators=100, learning_rate=0.3, max_features=2, max_depth=5, random_state=42)\n",
    "clf.fit(X_train_tl, y_train_tl) \n",
    "        \n",
    "y_preds_tl = clf.predict(X_test_tl) \n",
    "y_scores_tl = clf.predict_proba(X_test_tl)\n",
    "\n",
    "score_p_tl = metric_list(y_test_tl,y_preds_tl,y_scores_tl,num_of_classes)\n"
   ]
  },
  {
   "cell_type": "code",
   "execution_count": 86,
   "id": "7ce3ae2e-d264-46e8-8ef2-1cad898b7720",
   "metadata": {},
   "outputs": [],
   "source": [
    "score_tl = {\n",
    "    'FARs' : score_p_tl\n",
    "}"
   ]
  },
  {
   "cell_type": "code",
   "execution_count": 87,
   "id": "6cb5a08b-1e19-4bf2-8027-32e9cecc4931",
   "metadata": {},
   "outputs": [],
   "source": [
    "df_tl = pd.DataFrame.from_dict(score_tl, orient='index',columns=['accuracy', 'precision', 'recall', 'f1','Macro-Averaged AUPRC',\n",
    "                                                            'F_measure Beta=10','Modified mcc','MCC metirc','Gmean'])\n"
   ]
  },
  {
   "cell_type": "code",
   "execution_count": 88,
   "id": "f74d1cdf-9565-4c95-aa98-a90281b17479",
   "metadata": {},
   "outputs": [
    {
     "data": {
      "text/html": [
       "<div>\n",
       "<style scoped>\n",
       "    .dataframe tbody tr th:only-of-type {\n",
       "        vertical-align: middle;\n",
       "    }\n",
       "\n",
       "    .dataframe tbody tr th {\n",
       "        vertical-align: top;\n",
       "    }\n",
       "\n",
       "    .dataframe thead th {\n",
       "        text-align: right;\n",
       "    }\n",
       "</style>\n",
       "<table border=\"1\" class=\"dataframe\">\n",
       "  <thead>\n",
       "    <tr style=\"text-align: right;\">\n",
       "      <th></th>\n",
       "      <th>accuracy</th>\n",
       "      <th>precision</th>\n",
       "      <th>recall</th>\n",
       "      <th>f1</th>\n",
       "      <th>Macro-Averaged AUPRC</th>\n",
       "      <th>F_measure Beta=10</th>\n",
       "      <th>Modified mcc</th>\n",
       "      <th>MCC metirc</th>\n",
       "      <th>Gmean</th>\n",
       "    </tr>\n",
       "  </thead>\n",
       "  <tbody>\n",
       "    <tr>\n",
       "      <th>FARs</th>\n",
       "      <td>0.377085</td>\n",
       "      <td>0.383009</td>\n",
       "      <td>0.377085</td>\n",
       "      <td>0.366877</td>\n",
       "      <td>0.5</td>\n",
       "      <td>0.377616</td>\n",
       "      <td>0.0</td>\n",
       "      <td>0.144371</td>\n",
       "      <td>7.376723e-08</td>\n",
       "    </tr>\n",
       "  </tbody>\n",
       "</table>\n",
       "</div>"
      ],
      "text/plain": [
       "      accuracy  precision    recall        f1  Macro-Averaged AUPRC  \\\n",
       "FARs  0.377085   0.383009  0.377085  0.366877                   0.5   \n",
       "\n",
       "      F_measure Beta=10  Modified mcc  MCC metirc         Gmean  \n",
       "FARs           0.377616           0.0    0.144371  7.376723e-08  "
      ]
     },
     "execution_count": 88,
     "metadata": {},
     "output_type": "execute_result"
    }
   ],
   "source": [
    "df_tl"
   ]
  },
  {
   "cell_type": "code",
   "execution_count": 89,
   "id": "34138f9f-77ef-4375-94de-3087e361eb1e",
   "metadata": {},
   "outputs": [
    {
     "data": {
      "text/plain": [
       "array([[   0,    0,    0,    0,    1,    0,    2,    0],\n",
       "       [  16, 5507,  255,   50, 1000,  381, 1112,  140],\n",
       "       [   0, 1083,   63,   10,  383,  162,  768,    0],\n",
       "       [   0,   15,    2,    1,    5,   14,    9,    1],\n",
       "       [   2,  847,   93,   70,  524,  471, 1621,    1],\n",
       "       [   0,  712,   36,   19,  341,  201,  828,    1],\n",
       "       [   0,  361,   31,   21,  210,  152,  593,    1],\n",
       "       [   0,   15,    0,    0,   72,   37,   39,    6]], dtype=int64)"
      ]
     },
     "execution_count": 89,
     "metadata": {},
     "output_type": "execute_result"
    }
   ],
   "source": [
    "conf_mat_tl = confusion_matrix(y_true=y_test_tl, y_pred=y_preds_tl)\n",
    "conf_mat_tl"
   ]
  },
  {
   "cell_type": "markdown",
   "id": "3cc3d727-10fc-44b9-9564-2e418c22c69d",
   "metadata": {},
   "source": [
    "over sampling using SMOTE"
   ]
  },
  {
   "cell_type": "code",
   "execution_count": 61,
   "id": "f4e0a6d7-b1b5-4526-a832-e9d8939766b5",
   "metadata": {},
   "outputs": [],
   "source": [
    "from imblearn.over_sampling import SMOTE\n",
    "\n",
    "smote = SMOTE(random_state = 42)\n",
    "x_sm, y_sm = smote.fit_resample(x, y)"
   ]
  },
  {
   "cell_type": "code",
   "execution_count": 62,
   "id": "e863c5a7-02d9-4c8d-9024-7e5b77dd1080",
   "metadata": {},
   "outputs": [
    {
     "data": {
      "image/png": "[encoded data removed]",
      "text/plain": [
       "<Figure size 1000x600 with 1 Axes>"
      ]
     },
     "metadata": {},
     "output_type": "display_data"
    }
   ],
   "source": [
    "counts = y_sm.value_counts().sort_index()\n",
    "class_names = counts.index.tolist()\n",
    "class_values = counts.values.tolist()\n",
    "\n",
    "# Plotting\n",
    "plt.figure(figsize=(10, 6))\n",
    "bars = plt.bar(class_names, class_values)\n",
    "for bar, value in zip(bars, class_values):\n",
    "    plt.text(bar.get_x() + bar.get_width() / 2, bar.get_height(), value,\n",
    "             ha='center', va='bottom', color='black', fontsize=10)\n",
    "\n",
    "plt.xlabel('Classes')\n",
    "plt.ylabel('Frequency')\n",
    "plt.title('Distribution of Classes in FARs Data')\n",
    "plt.show()"
   ]
  },
  {
   "cell_type": "code",
   "execution_count": 66,
   "id": "47209c0f-3bfa-4cb6-9dd9-fe2477789f24",
   "metadata": {},
   "outputs": [],
   "source": [
    "X_train_sm, X_test_sm, y_train_sm, y_test_sm =train_test_split(x_sm,y_sm,test_size=0.2,random_state=42)\n",
    "clf =  GradientBoostingClassifier(n_estimators=100, learning_rate=0.3, max_features=2, max_depth=5, random_state=42)\n",
    "clf.fit(X_train_sm, y_train_sm) \n",
    "        \n",
    "y_preds_sm = clf.predict(X_test_sm) \n",
    "y_scores_sm = clf.predict_proba(X_test_sm)\n",
    "\n",
    "score_p_sm = metric_list(y_test_sm,y_preds_sm,y_scores_sm,num_of_classes)\n"
   ]
  },
  {
   "cell_type": "code",
   "execution_count": 67,
   "id": "b59bd5cd-48b6-41fa-9725-5dbdf071ac75",
   "metadata": {},
   "outputs": [],
   "source": [
    "score_sm = {\n",
    "    'FARs' : score_p_sm\n",
    "}"
   ]
  },
  {
   "cell_type": "code",
   "execution_count": 71,
   "id": "76a4f48f-37bf-4f23-834e-92f31040b087",
   "metadata": {},
   "outputs": [],
   "source": [
    "df_sm = pd.DataFrame.from_dict(score_sm, orient='index',columns=['accuracy', 'precision', 'recall', 'f1','Macro-Averaged AUPRC',\n",
    "                                                            'F_measure Beta=10','Modified mcc','MCC metirc','Gmean'])\n"
   ]
  },
  {
   "cell_type": "code",
   "execution_count": 72,
   "id": "2d073552-42fd-4598-b01f-2ff533809295",
   "metadata": {},
   "outputs": [
    {
     "data": {
      "text/html": [
       "<div>\n",
       "<style scoped>\n",
       "    .dataframe tbody tr th:only-of-type {\n",
       "        vertical-align: middle;\n",
       "    }\n",
       "\n",
       "    .dataframe tbody tr th {\n",
       "        vertical-align: top;\n",
       "    }\n",
       "\n",
       "    .dataframe thead th {\n",
       "        text-align: right;\n",
       "    }\n",
       "</style>\n",
       "<table border=\"1\" class=\"dataframe\">\n",
       "  <thead>\n",
       "    <tr style=\"text-align: right;\">\n",
       "      <th></th>\n",
       "      <th>accuracy</th>\n",
       "      <th>precision</th>\n",
       "      <th>recall</th>\n",
       "      <th>f1</th>\n",
       "      <th>Macro-Averaged AUPRC</th>\n",
       "      <th>F_measure Beta=10</th>\n",
       "      <th>Modified mcc</th>\n",
       "      <th>MCC metirc</th>\n",
       "      <th>Gmean</th>\n",
       "    </tr>\n",
       "  </thead>\n",
       "  <tbody>\n",
       "    <tr>\n",
       "      <th>FARs</th>\n",
       "      <td>0.790075</td>\n",
       "      <td>0.787658</td>\n",
       "      <td>0.790075</td>\n",
       "      <td>0.7829</td>\n",
       "      <td>0.5</td>\n",
       "      <td>0.789855</td>\n",
       "      <td>0.0</td>\n",
       "      <td>0.761984</td>\n",
       "      <td>0.09539</td>\n",
       "    </tr>\n",
       "  </tbody>\n",
       "</table>\n",
       "</div>"
      ],
      "text/plain": [
       "      accuracy  precision    recall      f1  Macro-Averaged AUPRC  \\\n",
       "FARs  0.790075   0.787658  0.790075  0.7829                   0.5   \n",
       "\n",
       "      F_measure Beta=10  Modified mcc  MCC metirc    Gmean  \n",
       "FARs           0.789855           0.0    0.761984  0.09539  "
      ]
     },
     "execution_count": 72,
     "metadata": {},
     "output_type": "execute_result"
    }
   ],
   "source": [
    "df_sm"
   ]
  },
  {
   "cell_type": "code",
   "execution_count": 73,
   "id": "7c6462e9-be66-45ba-ab8a-d3ade45334b9",
   "metadata": {},
   "outputs": [
    {
     "data": {
      "text/plain": [
       "array([[8411,    0,    0,    0,    0,    0,    0,    0],\n",
       "       [   0, 8490,    0,    0,    0,    0,    0,   15],\n",
       "       [   0,    1, 4926,  136,    7, 2888,  493,   10],\n",
       "       [   0,    0,  105, 7992,   38,  149,   71,   31],\n",
       "       [  24,    0,    0,    7, 7841,    9,  261,  285],\n",
       "       [   2,    0, 2147,  195,  264, 4731, 1034,   32],\n",
       "       [  12,    0,  836,  204, 2088, 2291, 2925,   70],\n",
       "       [   1,    1,    1,   28,  272,   13,  125, 7924]], dtype=int64)"
      ]
     },
     "execution_count": 73,
     "metadata": {},
     "output_type": "execute_result"
    }
   ],
   "source": [
    "conf_mat_sm = confusion_matrix(y_true=y_test_sm, y_pred=y_preds_sm)\n",
    "conf_mat_sm"
   ]
  },
  {
   "cell_type": "markdown",
   "id": "daff06bf-9907-4baf-95ab-31234eae8bf2",
   "metadata": {},
   "source": [
    "Over-sampling followed by under-sampling using SMOTETomek"
   ]
  },
  {
   "cell_type": "code",
   "execution_count": 92,
   "id": "404f77c3-1cd4-463a-a1c3-3c39453c929d",
   "metadata": {},
   "outputs": [],
   "source": [
    "from imblearn.combine import SMOTETomek\n",
    "\n",
    "smt = SMOTETomek(random_state = 42)\n",
    "x_smt, y_smt = smt.fit_resample(x, y)"
   ]
  },
  {
   "cell_type": "code",
   "execution_count": 93,
   "id": "36cceeb4-d4d7-4a1b-94b8-297f17109a82",
   "metadata": {},
   "outputs": [
    {
     "data": {
      "image/png": "[encoded data removed]",
      "text/plain": [
       "<Figure size 1000x600 with 1 Axes>"
      ]
     },
     "metadata": {},
     "output_type": "display_data"
    }
   ],
   "source": [
    "counts = y_smt.value_counts().sort_index()\n",
    "class_names = counts.index.tolist()\n",
    "class_values = counts.values.tolist()\n",
    "\n",
    "# Plotting\n",
    "plt.figure(figsize=(10, 6))\n",
    "bars = plt.bar(class_names, class_values)\n",
    "for bar, value in zip(bars, class_values):\n",
    "    plt.text(bar.get_x() + bar.get_width() / 2, bar.get_height(), value,\n",
    "             ha='center', va='bottom', color='black', fontsize=10)\n",
    "\n",
    "plt.xlabel('Classes')\n",
    "plt.ylabel('Frequency')\n",
    "plt.title('Distribution of Classes in FARs Data')\n",
    "plt.show()"
   ]
  },
  {
   "cell_type": "code",
   "execution_count": 94,
   "id": "9428e50d-bc0a-47ba-a517-134679b8d6fb",
   "metadata": {},
   "outputs": [],
   "source": [
    "X_train_smt, X_test_smt, y_train_smt, y_test_smt =train_test_split(x_smt,y_smt,test_size=0.2,random_state=42)\n",
    "clf =  GradientBoostingClassifier(n_estimators=100, learning_rate=0.3, max_features=2, max_depth=5, random_state=42)\n",
    "clf.fit(X_train_smt, y_train_smt) \n",
    "        \n",
    "y_preds_smt = clf.predict(X_test_smt) \n",
    "y_scores_smt = clf.predict_proba(X_test_smt)\n",
    "\n",
    "score_p_smt = metric_list(y_test_smt,y_preds_smt,y_scores_smt,num_of_classes)\n"
   ]
  },
  {
   "cell_type": "code",
   "execution_count": 95,
   "id": "660bac1f-1528-498e-aae5-9c4c39cd0776",
   "metadata": {},
   "outputs": [],
   "source": [
    "score_smt = {\n",
    "    'FARs' : score_p_smt\n",
    "}"
   ]
  },
  {
   "cell_type": "code",
   "execution_count": 96,
   "id": "25df6725-a4fe-48d4-aab5-e4666dd998ea",
   "metadata": {},
   "outputs": [],
   "source": [
    "df_smt = pd.DataFrame.from_dict(score_smt, orient='index',columns=['accuracy', 'precision', 'recall', 'f1','Macro-Averaged AUPRC',\n",
    "                                                            'F_measure Beta=10','Modified mcc','MCC metirc','Gmean'])\n"
   ]
  },
  {
   "cell_type": "code",
   "execution_count": 97,
   "id": "021d75a4-c5b8-4559-9a92-2d206491c7f7",
   "metadata": {},
   "outputs": [
    {
     "data": {
      "text/html": [
       "<div>\n",
       "<style scoped>\n",
       "    .dataframe tbody tr th:only-of-type {\n",
       "        vertical-align: middle;\n",
       "    }\n",
       "\n",
       "    .dataframe tbody tr th {\n",
       "        vertical-align: top;\n",
       "    }\n",
       "\n",
       "    .dataframe thead th {\n",
       "        text-align: right;\n",
       "    }\n",
       "</style>\n",
       "<table border=\"1\" class=\"dataframe\">\n",
       "  <thead>\n",
       "    <tr style=\"text-align: right;\">\n",
       "      <th></th>\n",
       "      <th>accuracy</th>\n",
       "      <th>precision</th>\n",
       "      <th>recall</th>\n",
       "      <th>f1</th>\n",
       "      <th>Macro-Averaged AUPRC</th>\n",
       "      <th>F_measure Beta=10</th>\n",
       "      <th>Modified mcc</th>\n",
       "      <th>MCC metirc</th>\n",
       "      <th>Gmean</th>\n",
       "    </tr>\n",
       "  </thead>\n",
       "  <tbody>\n",
       "    <tr>\n",
       "      <th>FARs</th>\n",
       "      <td>0.793021</td>\n",
       "      <td>0.789927</td>\n",
       "      <td>0.793021</td>\n",
       "      <td>0.785639</td>\n",
       "      <td>0.5</td>\n",
       "      <td>0.792739</td>\n",
       "      <td>0.0</td>\n",
       "      <td>0.765195</td>\n",
       "      <td>0.097342</td>\n",
       "    </tr>\n",
       "  </tbody>\n",
       "</table>\n",
       "</div>"
      ],
      "text/plain": [
       "      accuracy  precision    recall        f1  Macro-Averaged AUPRC  \\\n",
       "FARs  0.793021   0.789927  0.793021  0.785639                   0.5   \n",
       "\n",
       "      F_measure Beta=10  Modified mcc  MCC metirc     Gmean  \n",
       "FARs           0.792739           0.0    0.765195  0.097342  "
      ]
     },
     "execution_count": 97,
     "metadata": {},
     "output_type": "execute_result"
    }
   ],
   "source": [
    "df_smt"
   ]
  },
  {
   "cell_type": "code",
   "execution_count": 98,
   "id": "9cd1da4f-3fcb-4684-a0c4-2ec8e42963c3",
   "metadata": {},
   "outputs": [
    {
     "data": {
      "text/plain": [
       "array([[8436,    0,    0,    0,    0,    0,    0,    0],\n",
       "       [   0, 8262,    0,    0,    1,    0,    0,    9],\n",
       "       [   0,    1, 4943,  144,   13, 2694,  439,   16],\n",
       "       [   0,    0,  101, 8066,   47,  167,   86,   33],\n",
       "       [  18,    0,    0,   12, 7816,   14,  241,  245],\n",
       "       [   4,    0, 2206,  205,  260, 4676, 1026,   45],\n",
       "       [   6,    0,  838,  220, 2034, 2180, 2853,   67],\n",
       "       [   1,    1,    4,   32,  282,   15,  102, 7856]], dtype=int64)"
      ]
     },
     "execution_count": 98,
     "metadata": {},
     "output_type": "execute_result"
    }
   ],
   "source": [
    "conf_mat_smt = confusion_matrix(y_true=y_test_smt, y_pred=y_preds_smt)\n",
    "conf_mat_smt"
   ]
  },
  {
   "cell_type": "code",
   "execution_count": null,
   "id": "c2c1256a-117f-4fb7-8c3c-8ff8f524d4d1",
   "metadata": {},
   "outputs": [],
   "source": []
  }
 ],
 "metadata": {
  "kernelspec": {
   "display_name": "Python 3 (ipykernel)",
   "language": "python",
   "name": "python3"
  },
  "language_info": {
   "codemirror_mode": {
    "name": "ipython",
    "version": 3
   },
   "file_extension": ".py",
   "mimetype": "text/x-python",
   "name": "python",
   "nbconvert_exporter": "python",
   "pygments_lexer": "ipython3",
   "version": "3.10.13"
  }
 },
 "nbformat": 4,
 "nbformat_minor": 5
}
