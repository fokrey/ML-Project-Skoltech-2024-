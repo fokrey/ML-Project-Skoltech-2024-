{
 "cells": [
  {
   "cell_type": "code",
   "execution_count": 1,
   "metadata": {},
   "outputs": [],
   "source": [
    "from sklearn.model_selection import train_test_split\n",
    "from sklearn.metrics import accuracy_score, precision_score, recall_score, f1_score, classification_report\n",
    "from sklearn.ensemble import AdaBoostClassifier, GradientBoostingClassifier\n",
    "from pmlb import fetch_data\n",
    "from sklearn.metrics import confusion_matrix\n",
    "from sklearn.metrics import matthews_corrcoef\n",
    "from utils import *\n"
   ]
  },
  {
   "cell_type": "code",
   "execution_count": 2,
   "metadata": {},
   "outputs": [
    {
     "name": "stdout",
     "output_type": "stream",
     "text": [
      "(100968, 29) (100968,)\n"
     ]
    }
   ],
   "source": [
    "X,y=fetch_data('fars',return_X_y=True)\n",
    "print(X.shape,y.shape)"
   ]
  },
  {
   "cell_type": "code",
   "execution_count": 3,
   "metadata": {},
   "outputs": [],
   "source": [
    "num_of_classes=np.unique(y).size"
   ]
  },
  {
   "cell_type": "code",
   "execution_count": 4,
   "metadata": {},
   "outputs": [
    {
     "data": {
      "image/png": "[encoded data removed]",
      "text/plain": [
       "<Figure size 640x480 with 1 Axes>"
      ]
     },
     "metadata": {},
     "output_type": "display_data"
    }
   ],
   "source": [
    "import seaborn as sns\n",
    "import matplotlib.pyplot as plt\n",
    "sns.countplot(x=y)\n",
    "\n",
    "plt.xlabel('Class')\n",
    "plt.ylabel('Frequency')\n",
    "plt.title('Class Distribution')\n",
    "plt.show()"
   ]
  },
  {
   "cell_type": "code",
   "execution_count": 5,
   "metadata": {},
   "outputs": [
    {
     "name": "stderr",
     "output_type": "stream",
     "text": [
      "d:\\MachineLearningSkoltech\\.venv\\Lib\\site-packages\\sklearn\\ensemble\\_weight_boosting.py:519: FutureWarning: The SAMME.R algorithm (the default) is deprecated and will be removed in 1.6. Use the SAMME algorithm to circumvent this warning.\n",
      "  warnings.warn(\n",
      "d:\\MachineLearningSkoltech\\.venv\\Lib\\site-packages\\sklearn\\metrics\\_classification.py:1509: UndefinedMetricWarning: Precision is ill-defined and being set to 0.0 in labels with no predicted samples. Use `zero_division` parameter to control this behavior.\n",
      "  _warn_prf(average, modifier, f\"{metric.capitalize()} is\", len(result))\n",
      "d:\\MachineLearningSkoltech\\.venv\\Lib\\site-packages\\sklearn\\metrics\\_classification.py:1509: UndefinedMetricWarning: Precision is ill-defined and being set to 0.0 in labels with no predicted samples. Use `zero_division` parameter to control this behavior.\n",
      "  _warn_prf(average, modifier, f\"{metric.capitalize()} is\", len(result))\n",
      "d:\\MachineLearningSkoltech\\.venv\\Lib\\site-packages\\sklearn\\metrics\\_classification.py:1509: UndefinedMetricWarning: Precision is ill-defined and being set to 0.0 in labels with no predicted samples. Use `zero_division` parameter to control this behavior.\n",
      "  _warn_prf(average, modifier, f\"{metric.capitalize()} is\", len(result))\n",
      "d:\\MachineLearningSkoltech\\.venv\\Lib\\site-packages\\sklearn\\metrics\\_classification.py:1509: UndefinedMetricWarning: Precision is ill-defined and being set to 0.0 in labels with no predicted samples. Use `zero_division` parameter to control this behavior.\n",
      "  _warn_prf(average, modifier, f\"{metric.capitalize()} is\", len(result))\n"
     ]
    },
    {
     "name": "stdout",
     "output_type": "stream",
     "text": [
      "AdaBoost Classifier Metrics:\n",
      "Accuracy: 0.6169489287247037\n",
      "Precision: 0.4854211201215317\n",
      "Recall: 0.6169489287247037\n",
      "Weighted F1 Score: 0.5192325648104289\n",
      "              precision    recall  f1-score   support\n",
      "\n",
      "           0       0.00      0.00      0.00         2\n",
      "           1       1.00      1.00      1.00     12720\n",
      "           2       0.00      0.00      0.00      4566\n",
      "           3       0.00      0.00      0.00        99\n",
      "           4       0.34      1.00      0.51      5968\n",
      "           5       0.00      0.00      0.00      4120\n",
      "           6       0.00      0.00      0.00      2548\n",
      "           7       0.00      0.00      0.00       268\n",
      "\n",
      "    accuracy                           0.62     30291\n",
      "   macro avg       0.17      0.25      0.19     30291\n",
      "weighted avg       0.49      0.62      0.52     30291\n",
      "\n",
      "\n",
      "Gradient Boosting Classifier Metrics:\n",
      "Accuracy: 0.8044633719586676\n",
      "Precision: 0.8042689580472142\n",
      "Recall: 0.8044633719586676\n",
      "F1 Score: 0.7827104313024247\n",
      "\n",
      "Classification Report for Gradient Boosting:\n",
      "              precision    recall  f1-score   support\n",
      "\n",
      "           0       0.00      0.00      0.00         2\n",
      "           1       1.00      1.00      1.00     12720\n",
      "           2       0.61      0.61      0.61      4566\n",
      "           3       0.71      0.32      0.44        99\n",
      "           4       0.85      0.99      0.91      5968\n",
      "           5       0.47      0.62      0.53      4120\n",
      "           6       0.62      0.06      0.12      2548\n",
      "           7       0.78      0.74      0.76       268\n",
      "\n",
      "    accuracy                           0.80     30291\n",
      "   macro avg       0.63      0.54      0.55     30291\n",
      "weighted avg       0.80      0.80      0.78     30291\n",
      "\n"
     ]
    },
    {
     "name": "stderr",
     "output_type": "stream",
     "text": [
      "d:\\MachineLearningSkoltech\\.venv\\Lib\\site-packages\\sklearn\\metrics\\_classification.py:1509: UndefinedMetricWarning: Precision is ill-defined and being set to 0.0 in labels with no predicted samples. Use `zero_division` parameter to control this behavior.\n",
      "  _warn_prf(average, modifier, f\"{metric.capitalize()} is\", len(result))\n",
      "d:\\MachineLearningSkoltech\\.venv\\Lib\\site-packages\\sklearn\\metrics\\_classification.py:1509: UndefinedMetricWarning: Precision is ill-defined and being set to 0.0 in labels with no predicted samples. Use `zero_division` parameter to control this behavior.\n",
      "  _warn_prf(average, modifier, f\"{metric.capitalize()} is\", len(result))\n",
      "d:\\MachineLearningSkoltech\\.venv\\Lib\\site-packages\\sklearn\\metrics\\_classification.py:1509: UndefinedMetricWarning: Precision is ill-defined and being set to 0.0 in labels with no predicted samples. Use `zero_division` parameter to control this behavior.\n",
      "  _warn_prf(average, modifier, f\"{metric.capitalize()} is\", len(result))\n",
      "d:\\MachineLearningSkoltech\\.venv\\Lib\\site-packages\\sklearn\\metrics\\_classification.py:1509: UndefinedMetricWarning: Precision is ill-defined and being set to 0.0 in labels with no predicted samples. Use `zero_division` parameter to control this behavior.\n",
      "  _warn_prf(average, modifier, f\"{metric.capitalize()} is\", len(result))\n"
     ]
    }
   ],
   "source": [
    "X_train, X_test, y_train, y_test =train_test_split(X,y,test_size=0.3,random_state=42)\n",
    "# Initialize the AdaBoost classifier\n",
    "adaboost_clf = AdaBoostClassifier(n_estimators=100, random_state=42)\n",
    "\n",
    "# Train the AdaBoost classifier on the training data\n",
    "adaboost_clf.fit(X_train, y_train)\n",
    "\n",
    "# Make predictions on the testing data using AdaBoost\n",
    "y_pred_adaboost = adaboost_clf.predict(X_test)\n",
    "\n",
    "# Calculate various metrics for AdaBoost\n",
    "accuracy_adaboost = accuracy_score(y_test, y_pred_adaboost)\n",
    "precision_adaboost = precision_score(y_test, y_pred_adaboost, average='weighted')\n",
    "recall_adaboost = recall_score(y_test, y_pred_adaboost, average='weighted')\n",
    "f1_adaboost = f1_score(y_test, y_pred_adaboost, average='weighted')\n",
    "\n",
    "# Print the metrics for AdaBoost\n",
    "print(\"AdaBoost Classifier Metrics:\")\n",
    "print(\"Accuracy:\", accuracy_adaboost)\n",
    "print(\"Precision:\", precision_adaboost)\n",
    "print(\"Recall:\", recall_adaboost)\n",
    "print(\"Weighted F1 Score:\", f1_adaboost)\n",
    "\n",
    "print(classification_report(y_test, y_pred_adaboost))\n",
    "gradientboost_clf = GradientBoostingClassifier(n_estimators=100, random_state=42)\n",
    "\n",
    "# Train the Gradient Boosting classifier on the training data\n",
    "gradientboost_clf.fit(X_train, y_train)\n",
    "\n",
    "# Make predictions on the testing data using Gradient Boosting\n",
    "y_pred_gradientboost = gradientboost_clf.predict(X_test)\n",
    "\n",
    "# Calculate various metrics for Gradient Boosting\n",
    "accuracy_gradientboost = accuracy_score(y_test, y_pred_gradientboost)\n",
    "precision_gradientboost = precision_score(y_test, y_pred_gradientboost, average='weighted')\n",
    "recall_gradientboost = recall_score(y_test, y_pred_gradientboost, average='weighted')\n",
    "f1_gradientboost = f1_score(y_test, y_pred_gradientboost, average='weighted')\n",
    "\n",
    "# Print the metrics for Gradient Boosting\n",
    "print(\"\\nGradient Boosting Classifier Metrics:\")\n",
    "print(\"Accuracy:\", accuracy_gradientboost)\n",
    "print(\"Precision:\", precision_gradientboost)\n",
    "print(\"Recall:\", recall_gradientboost)\n",
    "print(\"F1 Score:\", f1_gradientboost)\n",
    "\n",
    "# Classification report for Gradient Boosting\n",
    "print(\"\\nClassification Report for Gradient Boosting:\")\n",
    "print(classification_report(y_test, y_pred_gradientboost))"
   ]
  },
  {
   "cell_type": "code",
   "execution_count": 6,
   "metadata": {},
   "outputs": [
    {
     "name": "stdout",
     "output_type": "stream",
     "text": [
      "\n",
      "Confusion Matrix for AdaBoost:\n",
      "[[    0     0     0     0     2     0     0     0]\n",
      " [    0 12720     0     0     0     0     0     0]\n",
      " [    0     0     0     0  4566     0     0     0]\n",
      " [    0     0     0     0    99     0     0     0]\n",
      " [    0     0     0     0  5968     0     0     0]\n",
      " [    0     0     0     0  4120     0     0     0]\n",
      " [    0     0     0     0  2548     0     0     0]\n",
      " [    0    49     0     0   219     0     0     0]]\n",
      "\n",
      "Confusion Matrix for Gradient Boosting:\n",
      "[[    0     0     0     0     2     0     0     0]\n",
      " [    0 12705     0     0     0     0     0    15]\n",
      " [    0     0  2804     3     2  1734    22     1]\n",
      " [    0     0    20    32     4    37     3     3]\n",
      " [    0     0     4     0  5906    17     9    32]\n",
      " [    0     0  1295     7   195  2559    61     3]\n",
      " [    0     0   451     3   786  1141   165     2]\n",
      " [    0     1     1     0    53     9     7   197]]\n"
     ]
    }
   ],
   "source": [
    "# Compute confusion matrix for AdaBoost\n",
    "conf_matrix_adaboost = confusion_matrix(y_test, y_pred_adaboost)\n",
    "print(\"\\nConfusion Matrix for AdaBoost:\")\n",
    "print(conf_matrix_adaboost)\n",
    "\n",
    "# Compute confusion matrix for Gradient Boosting\n",
    "conf_matrix_gradientboost = confusion_matrix(y_test, y_pred_gradientboost)\n",
    "print(\"\\nConfusion Matrix for Gradient Boosting:\")\n",
    "print(conf_matrix_gradientboost)\n"
   ]
  },
  {
   "cell_type": "markdown",
   "metadata": {},
   "source": [
    "- Compute other metrics for our dataset and algorithms"
   ]
  },
  {
   "cell_type": "code",
   "execution_count": 7,
   "metadata": {},
   "outputs": [
    {
     "name": "stdout",
     "output_type": "stream",
     "text": [
      "Macro-Averaged AUPRC: 0.5047089291406844\n",
      "F measure for beta=10: 0.6021173502864896\n"
     ]
    },
    {
     "name": "stderr",
     "output_type": "stream",
     "text": [
      "d:\\MachineLearningSkoltech\\.venv\\Lib\\site-packages\\sklearn\\metrics\\_classification.py:1509: UndefinedMetricWarning: Precision is ill-defined and being set to 0.0 in labels with no predicted samples. Use `zero_division` parameter to control this behavior.\n",
      "  _warn_prf(average, modifier, f\"{metric.capitalize()} is\", len(result))\n"
     ]
    },
    {
     "name": "stdout",
     "output_type": "stream",
     "text": [
      "Modified mcc: 0.2978359622125036\n",
      "MCC metirc: 0.5439040147610291\n",
      "Gmean: 0.0\n"
     ]
    }
   ],
   "source": [
    "y_scores = adaboost_clf.predict_proba(X_test)\n",
    "print(f\"Macro-Averaged AUPRC: {macro_averaged_auprc(y_true=y_test,y_scores=y_scores,n_classes=num_of_classes)}\")\n",
    "print(f\"F measure for beta=10: {f_measure(y_test,y_pred_adaboost,beta=10)}\")\n",
    "print(f\"Modified mcc: {mmcc(y_true=y_test,y_pred=y_pred_adaboost,classes=range(num_of_classes))}\")\n",
    "print(f\"MCC metirc: {matthews_corrcoef(y_test,y_pred_adaboost)}\")\n",
    "print(f\"Gmean: {np.prod(g_mean_multiclass(y_true=y_test,y_pred=y_pred_adaboost,n_classes=num_of_classes)[1][1::])}\")"
   ]
  },
  {
   "cell_type": "code",
   "execution_count": 8,
   "metadata": {},
   "outputs": [
    {
     "name": "stdout",
     "output_type": "stream",
     "text": [
      "Macro-Averaged AUPRC: 0.593208882368703\n",
      "F measure for beta=10: 0.8044456940829028\n"
     ]
    },
    {
     "name": "stderr",
     "output_type": "stream",
     "text": [
      "d:\\MachineLearningSkoltech\\.venv\\Lib\\site-packages\\sklearn\\metrics\\_classification.py:1509: UndefinedMetricWarning: Precision is ill-defined and being set to 0.0 in labels with no predicted samples. Use `zero_division` parameter to control this behavior.\n",
      "  _warn_prf(average, modifier, f\"{metric.capitalize()} is\", len(result))\n"
     ]
    },
    {
     "name": "stdout",
     "output_type": "stream",
     "text": [
      "Modified mcc: 0.6620792137547388\n",
      "MCC metirc: 0.7367942806895179\n",
      "Gmean: 0.005800936274975005\n"
     ]
    }
   ],
   "source": [
    "y_scores = gradientboost_clf.predict_proba(X_test)\n",
    "print(f\"Macro-Averaged AUPRC: {macro_averaged_auprc(y_true=y_test,y_scores=y_scores,n_classes=num_of_classes)}\")\n",
    "print(f\"F measure for beta=10: {f_measure(y_test,y_pred_gradientboost,beta=10)}\")\n",
    "print(f\"Modified mcc: {mmcc(y_true=y_test,y_pred=y_pred_gradientboost,classes=range(num_of_classes))}\")\n",
    "print(f\"MCC metirc: {matthews_corrcoef(y_test,y_pred_gradientboost)}\")\n",
    "print(f\"Gmean: {np.prod(g_mean_multiclass(y_true=y_test,y_pred=y_pred_gradientboost,n_classes=num_of_classes)[1][1::])}\")"
   ]
  }
 ],
 "metadata": {
  "kernelspec": {
   "display_name": ".venv",
   "language": "python",
   "name": "python3"
  },
  "language_info": {
   "codemirror_mode": {
    "name": "ipython",
    "version": 3
   },
   "file_extension": ".py",
   "mimetype": "text/x-python",
   "name": "python",
   "nbconvert_exporter": "python",
   "pygments_lexer": "ipython3",
   "version": "3.11.8"
  }
 },
 "nbformat": 4,
 "nbformat_minor": 2
}
